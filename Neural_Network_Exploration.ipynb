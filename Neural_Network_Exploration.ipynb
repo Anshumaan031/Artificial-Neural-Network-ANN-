{
 "cells": [
  {
   "cell_type": "markdown",
   "metadata": {
    "id": "Sue_D55z_UGi"
   },
   "source": [
    "# Neural Network"
   ]
  },
  {
   "cell_type": "markdown",
   "metadata": {
    "id": "dmLpEz1O_UGr"
   },
   "source": [
    "### Importing libraries"
   ]
  },
  {
   "cell_type": "code",
   "execution_count": 25,
   "metadata": {
    "id": "gDxilunI_UGt"
   },
   "outputs": [],
   "source": [
    "import warnings\n",
    "warnings.filterwarnings('ignore')\n",
    "\n",
    "import numpy as np\n",
    "import matplotlib.pyplot as plt\n",
    "import keras\n",
    "from keras.datasets import mnist\n",
    "from keras.models import Sequential,model_from_json\n",
    "from keras.layers import Dense\n",
    "from tensorflow.keras.optimizers import RMSprop\n",
    "from keras import utils as np_utils\n",
    "import pylab as plt"
   ]
  },
  {
   "cell_type": "markdown",
   "metadata": {
    "id": "1ZmkiMzw_UG5"
   },
   "source": [
    "#### Keras is the deep learning library that helps you to code Deep Neural Networks with fewer lines of code "
   ]
  },
  {
   "cell_type": "markdown",
   "metadata": {
    "id": "xSVnKtOg_UG6"
   },
   "source": [
    "### Import data"
   ]
  },
  {
   "cell_type": "code",
   "execution_count": 26,
   "metadata": {
    "colab": {
     "base_uri": "https://localhost:8080/"
    },
    "id": "wl_5ee-a_UG7",
    "outputId": "d55635e8-f9f8-445f-adb1-2e011700d001"
   },
   "outputs": [
    {
     "name": "stdout",
     "output_type": "stream",
     "text": [
      "60000 train samples\n",
      "10000 test samples\n"
     ]
    }
   ],
   "source": [
    "batch_size = 128\n",
    "num_classes = 10\n",
    "epochs = 2\n",
    "\n",
    "# the data, split between train and test sets\n",
    "(x_train, y_train), (x_test, y_test) = mnist.load_data()\n",
    "\n",
    "x_train = x_train.reshape(60000, 784)\n",
    "x_test = x_test.reshape(10000, 784)\n",
    "x_train = x_train.astype('float32')\n",
    "x_test = x_test.astype('float32')\n",
    "\n",
    "# Normalize to 0 to 1 range\n",
    "x_train /= 255\n",
    "x_test /= 255\n",
    "\n",
    "print(x_train.shape[0], 'train samples')\n",
    "print(x_test.shape[0], 'test samples')\n",
    "# convert class vectors to binary class matrices\n",
    "y_train = keras.utils.np_utils.to_categorical(y_train, num_classes)\n",
    "y_test = keras.utils.np_utils.to_categorical(y_test, num_classes)"
   ]
  },
  {
   "cell_type": "code",
   "execution_count": 39,
   "metadata": {
    "id": "XBxdYK8FNNAD"
   },
   "outputs": [],
   "source": [
    "digits = mnist.load_data()"
   ]
  },
  {
   "cell_type": "markdown",
   "metadata": {
    "id": "TpWsTJGa_UG-"
   },
   "source": [
    "### Design a model"
   ]
  },
  {
   "cell_type": "code",
   "execution_count": 28,
   "metadata": {
    "colab": {
     "base_uri": "https://localhost:8080/"
    },
    "id": "iC5mtrMq_UG_",
    "outputId": "22099f60-4082-465f-87e4-92607c00a3ba",
    "scrolled": true
   },
   "outputs": [
    {
     "name": "stdout",
     "output_type": "stream",
     "text": [
      "Model: \"sequential_7\"\n",
      "_________________________________________________________________\n",
      "Layer (type)                 Output Shape              Param #   \n",
      "=================================================================\n",
      "dense_23 (Dense)             (None, 32)                25120     \n",
      "_________________________________________________________________\n",
      "dense_24 (Dense)             (None, 32)                1056      \n",
      "_________________________________________________________________\n",
      "dense_25 (Dense)             (None, 32)                1056      \n",
      "_________________________________________________________________\n",
      "dense_26 (Dense)             (None, 10)                330       \n",
      "=================================================================\n",
      "Total params: 27,562\n",
      "Trainable params: 27,562\n",
      "Non-trainable params: 0\n",
      "_________________________________________________________________\n"
     ]
    }
   ],
   "source": [
    "first_layer_size = 32\n",
    "model = Sequential()\n",
    "model.add(Dense(first_layer_size, activation='sigmoid', input_shape=(784,)))\n",
    "model.add(Dense(32, activation='sigmoid'))\n",
    "model.add(Dense(32, activation='sigmoid'))\n",
    "model.add(Dense(num_classes, activation='softmax'))\n",
    "\n",
    "model.summary()"
   ]
  },
  {
   "cell_type": "markdown",
   "metadata": {
    "id": "OdqUZAoY_UHC"
   },
   "source": [
    "### Weights before Training"
   ]
  },
  {
   "cell_type": "markdown",
   "metadata": {
    "id": "MaihWRgD_UHE"
   },
   "source": [
    "### Compiling a Model"
   ]
  },
  {
   "cell_type": "code",
   "execution_count": 29,
   "metadata": {
    "collapsed": true,
    "id": "8wQjWL6f_UHG",
    "scrolled": false
   },
   "outputs": [],
   "source": [
    "model.compile(loss='categorical_crossentropy',\n",
    "              optimizer=RMSprop(),\n",
    "              metrics=['accuracy'])"
   ]
  },
  {
   "cell_type": "markdown",
   "metadata": {
    "id": "SZdGMf7J_UHI"
   },
   "source": [
    "### Training"
   ]
  },
  {
   "cell_type": "code",
   "execution_count": 30,
   "metadata": {
    "colab": {
     "base_uri": "https://localhost:8080/"
    },
    "id": "pO1HFRHO_UHK",
    "outputId": "489ef33f-f5d4-4306-a7fc-d4f4e1db91df"
   },
   "outputs": [
    {
     "name": "stdout",
     "output_type": "stream",
     "text": [
      "Epoch 1/2\n",
      "469/469 [==============================] - 2s 2ms/step - loss: 1.5951 - accuracy: 0.5240\n",
      "Epoch 2/2\n",
      "469/469 [==============================] - 1s 2ms/step - loss: 0.6428 - accuracy: 0.8442\n"
     ]
    }
   ],
   "source": [
    "# Write the Training input and output variables, size of the batch, number of epochs\n",
    "history = model.fit(x_train,y_train,\n",
    "                    batch_size=batch_size,\n",
    "                    epochs=epochs,\n",
    "                    verbose=1)"
   ]
  },
  {
   "cell_type": "markdown",
   "metadata": {
    "id": "nyoaYTxe_UHO"
   },
   "source": [
    "### Testing"
   ]
  },
  {
   "cell_type": "code",
   "execution_count": 31,
   "metadata": {
    "colab": {
     "base_uri": "https://localhost:8080/"
    },
    "id": "qK873YUi_UHQ",
    "outputId": "f868272b-7ff6-4614-e140-9f91fc82e60a"
   },
   "outputs": [
    {
     "name": "stdout",
     "output_type": "stream",
     "text": [
      "Test loss: 0.4659404158592224\n",
      "Test accuracy: 0.8851000070571899\n"
     ]
    }
   ],
   "source": [
    "# Write the testing input and output variables\n",
    "score = model.evaluate(x_test, y_test, verbose=0)\n",
    "print('Test loss:', score[0])\n",
    "print('Test accuracy:', score[1])"
   ]
  },
  {
   "cell_type": "code",
   "execution_count": null,
   "metadata": {
    "id": "dP3YS8eM_UHS",
    "outputId": "ac67633a-d26a-4888-e2ed-2d8b28d8ca6e"
   },
   "outputs": [
    {
     "name": "stdout",
     "output_type": "stream",
     "text": [
      "Prediction\n",
      " [9.9066144e-01 6.3045729e-09 4.6392674e-05 1.5970862e-05 3.7134234e-03\n",
      " 4.4541433e-03 3.0901298e-05 1.3884912e-05 1.3021538e-04 9.3353365e-04]\n",
      "\n",
      "Thresholded output\n",
      " [1 0 0 0 0 0 0 0 0 0]\n"
     ]
    }
   ],
   "source": [
    "# Write the index of the test sample to test\n",
    "prediction = model.predict(x_test[10:11])\n",
    "prediction = prediction[0]\n",
    "print('Prediction\\n',prediction)\n",
    "print('\\nThresholded output\\n',(prediction>0.5)*1)"
   ]
  },
  {
   "cell_type": "code",
   "execution_count": 8,
   "metadata": {
    "id": "wnjNUmRiCwpQ"
   },
   "outputs": [],
   "source": [
    "first_layer_size = 32\n",
    "model2 = Sequential()\n",
    "model2.add(Dense(first_layer_size, activation='sigmoid', input_shape=(784,)))\n",
    "model2.add(Dense(4, activation='sigmoid'))\n",
    "model2.add(Dense(32, activation='sigmoid'))\n",
    "model2.add(Dense(128, activation='sigmoid'))\n",
    "model2.add(Dense(519, activation='sigmoid'))\n",
    "model2.add(Dense(2056, activation='sigmoid'))\n",
    "model2.add(Dense(num_classes, activation='softmax'))\n",
    "\n",
    "model2.compile(loss='categorical_crossentropy',\n",
    "              optimizer=RMSprop(),\n",
    "              metrics=['accuracy'])"
   ]
  },
  {
   "cell_type": "code",
   "execution_count": 9,
   "metadata": {
    "colab": {
     "base_uri": "https://localhost:8080/"
    },
    "id": "51VWpTWCDIEV",
    "outputId": "dfe9b477-c094-4aa0-fc29-c157e86ab418"
   },
   "outputs": [
    {
     "name": "stdout",
     "output_type": "stream",
     "text": [
      "Epoch 1/10\n",
      "469/469 [==============================] - 16s 32ms/step - loss: 2.3888 - accuracy: 0.1282\n",
      "Epoch 2/10\n",
      "469/469 [==============================] - 15s 32ms/step - loss: 1.8414 - accuracy: 0.2246\n",
      "Epoch 3/10\n",
      "469/469 [==============================] - 15s 32ms/step - loss: 1.5433 - accuracy: 0.3034\n",
      "Epoch 4/10\n",
      "469/469 [==============================] - 15s 32ms/step - loss: 1.4285 - accuracy: 0.3908\n",
      "Epoch 5/10\n",
      "469/469 [==============================] - 15s 32ms/step - loss: 1.3026 - accuracy: 0.4858\n",
      "Epoch 6/10\n",
      "469/469 [==============================] - 15s 32ms/step - loss: 1.1914 - accuracy: 0.5530\n",
      "Epoch 7/10\n",
      "469/469 [==============================] - 15s 33ms/step - loss: 1.1125 - accuracy: 0.6016\n",
      "Epoch 8/10\n",
      "469/469 [==============================] - 15s 32ms/step - loss: 1.0487 - accuracy: 0.6355\n",
      "Epoch 9/10\n",
      "469/469 [==============================] - 15s 32ms/step - loss: 0.9967 - accuracy: 0.6619\n",
      "Epoch 10/10\n",
      "469/469 [==============================] - 15s 31ms/step - loss: 0.9429 - accuracy: 0.6852\n"
     ]
    }
   ],
   "source": [
    "history = model2.fit(x_train,y_train,\n",
    "                    batch_size=batch_size,\n",
    "                    epochs=10,\n",
    "                    verbose=1)"
   ]
  },
  {
   "cell_type": "code",
   "execution_count": 10,
   "metadata": {
    "colab": {
     "base_uri": "https://localhost:8080/"
    },
    "id": "kMAPxikuD6bp",
    "outputId": "fb470cf4-add7-4ab6-9c6e-e810b14dd362"
   },
   "outputs": [
    {
     "name": "stdout",
     "output_type": "stream",
     "text": [
      "Test loss: 1.1179434061050415\n",
      "Test accuracy: 0.5335999727249146\n"
     ]
    }
   ],
   "source": [
    "score2 = model2.evaluate(x_test, y_test, verbose=0)\n",
    "print('Test loss:', score2[0])\n",
    "print('Test accuracy:', score2[1])"
   ]
  },
  {
   "cell_type": "code",
   "execution_count": 11,
   "metadata": {
    "id": "783Y6u4qE-TU"
   },
   "outputs": [],
   "source": [
    "first_layer_size = 32\n",
    "model3 = Sequential()\n",
    "model3.add(Dense(first_layer_size, activation='sigmoid', input_shape=(784,)))\n",
    "model3.add(Dense(16, activation='sigmoid'))\n",
    "model3.add(Dense(12, activation='sigmoid'))\n",
    "model3.add(Dense(num_classes, activation='softmax'))\n",
    "\n",
    "model3.compile(loss='categorical_crossentropy',\n",
    "              optimizer=RMSprop(),\n",
    "              metrics=['accuracy'])"
   ]
  },
  {
   "cell_type": "code",
   "execution_count": 44,
   "metadata": {
    "colab": {
     "base_uri": "https://localhost:8080/"
    },
    "id": "1hgL_WueOsA0",
    "outputId": "4abe0b3c-8d95-4d6d-a845-e5c3419693fb"
   },
   "outputs": [
    {
     "name": "stdout",
     "output_type": "stream",
     "text": [
      "Model: \"sequential_5\"\n",
      "_________________________________________________________________\n",
      "Layer (type)                 Output Shape              Param #   \n",
      "=================================================================\n",
      "dense_15 (Dense)             (None, 32)                25120     \n",
      "_________________________________________________________________\n",
      "dense_16 (Dense)             (None, 18)                594       \n",
      "_________________________________________________________________\n",
      "dense_17 (Dense)             (None, 14)                266       \n",
      "_________________________________________________________________\n",
      "dense_18 (Dense)             (None, 10)                150       \n",
      "=================================================================\n",
      "Total params: 26,130\n",
      "Trainable params: 26,130\n",
      "Non-trainable params: 0\n",
      "_________________________________________________________________\n"
     ]
    }
   ],
   "source": [
    "model3.summary()"
   ]
  },
  {
   "cell_type": "code",
   "execution_count": 12,
   "metadata": {
    "colab": {
     "base_uri": "https://localhost:8080/"
    },
    "id": "KLDfEC_4F03C",
    "outputId": "f88064ff-5dee-4036-bebd-781e12864a22"
   },
   "outputs": [
    {
     "name": "stdout",
     "output_type": "stream",
     "text": [
      "Epoch 1/10\n",
      "469/469 [==============================] - 2s 3ms/step - loss: 1.9471 - accuracy: 0.4087\n",
      "Epoch 2/10\n",
      "469/469 [==============================] - 1s 3ms/step - loss: 1.2315 - accuracy: 0.7171\n",
      "Epoch 3/10\n",
      "469/469 [==============================] - 1s 3ms/step - loss: 0.7697 - accuracy: 0.8472\n",
      "Epoch 4/10\n",
      "469/469 [==============================] - 1s 3ms/step - loss: 0.5170 - accuracy: 0.8888\n",
      "Epoch 5/10\n",
      "469/469 [==============================] - 1s 3ms/step - loss: 0.3912 - accuracy: 0.9097\n",
      "Epoch 6/10\n",
      "469/469 [==============================] - 1s 3ms/step - loss: 0.3232 - accuracy: 0.9225\n",
      "Epoch 7/10\n",
      "469/469 [==============================] - 1s 3ms/step - loss: 0.2788 - accuracy: 0.9327\n",
      "Epoch 8/10\n",
      "469/469 [==============================] - 1s 3ms/step - loss: 0.2466 - accuracy: 0.9391\n",
      "Epoch 9/10\n",
      "469/469 [==============================] - 1s 3ms/step - loss: 0.2224 - accuracy: 0.9444\n",
      "Epoch 10/10\n",
      "469/469 [==============================] - 1s 3ms/step - loss: 0.2039 - accuracy: 0.9477\n"
     ]
    }
   ],
   "source": [
    "history = model3.fit(x_train,y_train,\n",
    "                    batch_size=batch_size,\n",
    "                    epochs=10,\n",
    "                    verbose=1)"
   ]
  },
  {
   "cell_type": "code",
   "execution_count": 16,
   "metadata": {
    "colab": {
     "base_uri": "https://localhost:8080/"
    },
    "id": "UJdnArT0F777",
    "outputId": "abdd57b5-bb88-4c15-a827-beff1d02ebe9"
   },
   "outputs": [
    {
     "name": "stdout",
     "output_type": "stream",
     "text": [
      "Test loss: 0.2212790548801422\n",
      "Test accuracy: 0.9430000185966492\n"
     ]
    }
   ],
   "source": [
    "score3 = model3.evaluate(x_test, y_test, verbose=0)\n",
    "print('Test loss:', score3[0])\n",
    "print('Test accuracy:', score3[1])"
   ]
  },
  {
   "cell_type": "code",
   "execution_count": 20,
   "metadata": {
    "id": "27c20gtdIUpS"
   },
   "outputs": [],
   "source": [
    "first_layer_size = 32\n",
    "model4 = Sequential()\n",
    "model4.add(Dense(first_layer_size, activation='sigmoid', input_shape=(784,)))\n",
    "model4.add(Dense(18, activation='relu'))\n",
    "model4.add(Dense(14, activation='relu'))\n",
    "model4.add(Dense(num_classes, activation='softmax'))\n",
    "\n",
    "model4.compile(loss='categorical_crossentropy',\n",
    "              optimizer=RMSprop(),\n",
    "              metrics=['accuracy'])"
   ]
  },
  {
   "cell_type": "code",
   "execution_count": 21,
   "metadata": {
    "colab": {
     "base_uri": "https://localhost:8080/"
    },
    "id": "RKaNQyBdIvls",
    "outputId": "38765f79-8ee2-4894-9258-a20c73298737"
   },
   "outputs": [
    {
     "name": "stdout",
     "output_type": "stream",
     "text": [
      "Epoch 1/20\n",
      "469/469 [==============================] - 2s 3ms/step - loss: 0.8328 - accuracy: 0.7876\n",
      "Epoch 2/20\n",
      "469/469 [==============================] - 1s 3ms/step - loss: 0.3143 - accuracy: 0.9098\n",
      "Epoch 3/20\n",
      "469/469 [==============================] - 1s 3ms/step - loss: 0.2454 - accuracy: 0.9301\n",
      "Epoch 4/20\n",
      "469/469 [==============================] - 1s 2ms/step - loss: 0.2057 - accuracy: 0.9402\n",
      "Epoch 5/20\n",
      "469/469 [==============================] - 1s 3ms/step - loss: 0.1785 - accuracy: 0.9481\n",
      "Epoch 6/20\n",
      "469/469 [==============================] - 1s 3ms/step - loss: 0.1584 - accuracy: 0.9534\n",
      "Epoch 7/20\n",
      "469/469 [==============================] - 1s 3ms/step - loss: 0.1432 - accuracy: 0.9579\n",
      "Epoch 8/20\n",
      "469/469 [==============================] - 1s 3ms/step - loss: 0.1312 - accuracy: 0.9616\n",
      "Epoch 9/20\n",
      "469/469 [==============================] - 1s 3ms/step - loss: 0.1219 - accuracy: 0.9644\n",
      "Epoch 10/20\n",
      "469/469 [==============================] - 1s 3ms/step - loss: 0.1137 - accuracy: 0.9667\n",
      "Epoch 11/20\n",
      "469/469 [==============================] - 1s 3ms/step - loss: 0.1068 - accuracy: 0.9689\n",
      "Epoch 12/20\n",
      "469/469 [==============================] - 1s 3ms/step - loss: 0.1012 - accuracy: 0.9702\n",
      "Epoch 13/20\n",
      "469/469 [==============================] - 1s 3ms/step - loss: 0.0962 - accuracy: 0.9717\n",
      "Epoch 14/20\n",
      "469/469 [==============================] - 1s 3ms/step - loss: 0.0916 - accuracy: 0.9728\n",
      "Epoch 15/20\n",
      "469/469 [==============================] - 1s 3ms/step - loss: 0.0874 - accuracy: 0.9745\n",
      "Epoch 16/20\n",
      "469/469 [==============================] - 1s 3ms/step - loss: 0.0845 - accuracy: 0.9751\n",
      "Epoch 17/20\n",
      "469/469 [==============================] - 1s 3ms/step - loss: 0.0811 - accuracy: 0.9761\n",
      "Epoch 18/20\n",
      "469/469 [==============================] - 1s 2ms/step - loss: 0.0777 - accuracy: 0.9775\n",
      "Epoch 19/20\n",
      "469/469 [==============================] - 1s 2ms/step - loss: 0.0754 - accuracy: 0.9778\n",
      "Epoch 20/20\n",
      "469/469 [==============================] - 1s 3ms/step - loss: 0.0727 - accuracy: 0.9786\n"
     ]
    }
   ],
   "source": [
    "history = model4.fit(x_train,y_train,\n",
    "                    batch_size=batch_size,\n",
    "                    epochs=20,\n",
    "                    verbose=1)"
   ]
  },
  {
   "cell_type": "code",
   "execution_count": 22,
   "metadata": {
    "colab": {
     "base_uri": "https://localhost:8080/"
    },
    "id": "HnO3wEFiI0ir",
    "outputId": "fb2d07da-de88-4070-8754-70b56c960a5e"
   },
   "outputs": [
    {
     "name": "stdout",
     "output_type": "stream",
     "text": [
      "Test loss: 0.11844076961278915\n",
      "Test accuracy: 0.96670001745224\n"
     ]
    }
   ],
   "source": [
    "score4 = model4.evaluate(x_test, y_test, verbose=0)\n",
    "print('Test loss:', score4[0])\n",
    "print('Test accuracy:', score4[1])"
   ]
  },
  {
   "cell_type": "code",
   "execution_count": 34,
   "metadata": {
    "colab": {
     "base_uri": "https://localhost:8080/"
    },
    "id": "T9z9ruvZJRjM",
    "outputId": "bea0d1e1-cea3-4a3f-b834-0528f2ea30ad"
   },
   "outputs": [
    {
     "name": "stdout",
     "output_type": "stream",
     "text": [
      "Test accuracy of model1 : 0.8851000070571899 \n",
      " Test accuracy of model4 : 0.96670001745224\n"
     ]
    }
   ],
   "source": [
    "print('Test accuracy of model1 :', score[1],'\\n Test accuracy of model4 :', score4[1] )"
   ]
  },
  {
   "cell_type": "code",
   "execution_count": null,
   "metadata": {
    "id": "mNfu-o_QJvgh"
   },
   "outputs": [],
   "source": []
  }
 ],
 "metadata": {
  "colab": {
   "name": "Neural_Network - Exploration.ipynb",
   "provenance": []
  },
  "kernelspec": {
   "display_name": "Python 3",
   "language": "python",
   "name": "python3"
  },
  "language_info": {
   "codemirror_mode": {
    "name": "ipython",
    "version": 3
   },
   "file_extension": ".py",
   "mimetype": "text/x-python",
   "name": "python",
   "nbconvert_exporter": "python",
   "pygments_lexer": "ipython3",
   "version": "3.8.8"
  }
 },
 "nbformat": 4,
 "nbformat_minor": 1
}
